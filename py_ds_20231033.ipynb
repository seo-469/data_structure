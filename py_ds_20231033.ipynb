{
  "nbformat": 4,
  "nbformat_minor": 0,
  "metadata": {
    "colab": {
      "provenance": []
    },
    "kernelspec": {
      "name": "python3",
      "display_name": "Python 3"
    },
    "language_info": {
      "name": "python"
    }
  },
  "cells": [
    {
      "cell_type": "markdown",
      "source": [
        "#queue"
      ],
      "metadata": {
        "id": "whyIDWfMQvij"
      }
    },
    {
      "cell_type": "markdown",
      "source": [
        "# 1. LeetCode 225"
      ],
      "metadata": {
        "id": "eIy8oVRK-v-U"
      }
    },
    {
      "cell_type": "code",
      "execution_count": null,
      "metadata": {
        "id": "4WHaV7e35iNw"
      },
      "outputs": [],
      "source": [
        "# 1. LeetCode 225\n",
        "\n",
        "from collections import deque\n",
        "\n",
        "class MyStack:\n",
        "\n",
        "    def __init__(self):\n",
        "        self.q = deque()\n",
        "\n",
        "    def push(self, x: int) -> None:\n",
        "        self.q.append(x)\n",
        "        # 새로 들어온 원소를 앞으로 보내기 위해 회전\n",
        "        for _ in range(len(self.q) - 1):\n",
        "            self.q.append(self.q.popleft())\n",
        "\n",
        "    def pop(self) -> int:\n",
        "        return self.q.popleft()\n",
        "\n",
        "    def top(self) -> int:\n",
        "        return self.q[0]\n",
        "\n",
        "    def empty(self) -> bool:\n",
        "        return not self.q\n"
      ]
    },
    {
      "cell_type": "markdown",
      "source": [
        "# 2. LeetCode 232"
      ],
      "metadata": {
        "id": "K6hiFVm_-7T-"
      }
    },
    {
      "cell_type": "code",
      "source": [
        "# 2. LeetCode 232\n",
        "\n",
        "class MyQueue:\n",
        "\n",
        "    def __init__(self):\n",
        "        self.in_stack = []\n",
        "        self.out_stack = []\n",
        "\n",
        "    def push(self, x: int) -> None:\n",
        "        self.in_stack.append(x)\n",
        "\n",
        "    def pop(self) -> int:\n",
        "        self.move()\n",
        "        return self.out_stack.pop()\n",
        "\n",
        "    def peek(self) -> int:\n",
        "        self.move()\n",
        "        return self.out_stack[-1]\n",
        "\n",
        "    def empty(self) -> bool:\n",
        "        return not self.in_stack and not self.out_stack\n",
        "\n",
        "    def move(self):\n",
        "        if not self.out_stack:\n",
        "            while self.in_stack:\n",
        "                self.out_stack.append(self.in_stack.pop())\n"
      ],
      "metadata": {
        "id": "pdma0RnG6AJN"
      },
      "execution_count": null,
      "outputs": []
    },
    {
      "cell_type": "markdown",
      "source": [
        "# 3.Chapter 7"
      ],
      "metadata": {
        "id": "J80h9n1V-_Ir"
      }
    },
    {
      "cell_type": "code",
      "source": [
        "#01\n",
        "class ListQueue:\n",
        "    def __init__(self):\n",
        "        self.__queue = []\n",
        "\n",
        "    def enqueue(self, x):         # front가 리스트의 끝이므로, 뒤쪽에 추가\n",
        "        self.__queue.insert(0, x)\n",
        "\n",
        "    def dequeue(self):            # tail이 리스트 앞쪽이므로, 맨 끝 pop\n",
        "        return self.__queue.pop()\n",
        "\n",
        "    def front(self):              # front는 리스트 끝\n",
        "        return self.__queue[0]\n",
        "\n",
        "    def isEmpty(self) -> bool:\n",
        "        return len(self.__queue) == 0\n",
        "\n",
        "    def dequeueAll(self):\n",
        "        self.__queue.clear()"
      ],
      "metadata": {
        "colab": {
          "base_uri": "https://localhost:8080/"
        },
        "id": "rqtxdvr26GSX",
        "outputId": "ea497fca-1cae-4130-c1a1-03380fee20f7"
      },
      "execution_count": null,
      "outputs": [
        {
          "output_type": "stream",
          "name": "stdout",
          "text": [
            "True\n",
            "False\n"
          ]
        }
      ]
    },
    {
      "cell_type": "code",
      "source": [
        "#02\n",
        "from collections import deque\n",
        "\n",
        "def is_w_w_reverse(s):\n",
        "    queue = deque()\n",
        "    i = 0\n",
        "\n",
        "    # 첫 번째 w를 큐에 저장\n",
        "    while s[i] != '$':\n",
        "        queue.append(s[i])\n",
        "        i += 1\n",
        "\n",
        "    i += 1  # '$'를 건너뛰고\n",
        "\n",
        "    # 두 번째 wᵣ를 하나씩 꺼내며 비교\n",
        "    while i < len(s):\n",
        "        if not queue or s[i] != queue.pop():\n",
        "            return False\n",
        "        i += 1\n",
        "\n",
        "    return not queue  # 모두 같다면 큐는 비어야 함"
      ],
      "metadata": {
        "id": "ZHkLbC01_F0l"
      },
      "execution_count": null,
      "outputs": []
    },
    {
      "cell_type": "code",
      "source": [
        "#03\n",
        "def copyQueue(a):\n",
        "    b = LinkedQueue()\n",
        "    temp = LinkedQueue()\n",
        "\n",
        "    while not a.isEmpty():\n",
        "        item = a.dequeue()\n",
        "        b.enqueue(item)\n",
        "        temp.enqueue(item)\n",
        "\n",
        "    # a의 원래 상태 복원\n",
        "    while not temp.isEmpty():\n",
        "        a.enqueue(temp.dequeue())\n",
        "\n",
        "    return b"
      ],
      "metadata": {
        "id": "EQkqGUAn_MmG"
      },
      "execution_count": null,
      "outputs": []
    },
    {
      "cell_type": "code",
      "source": [
        "#04\n",
        "from collections import deque\n",
        "\n",
        "class StackUsingQueues:\n",
        "    def __init__(self):\n",
        "        self.q1 = deque()\n",
        "        self.q2 = deque()\n",
        "\n",
        "    def push(self, x):\n",
        "        self.q1.append(x)\n",
        "\n",
        "    def pop(self):\n",
        "        # q1에 마지막 원소만 남기고 q2로 옮김\n",
        "        while len(self.q1) > 1:\n",
        "            self.q2.append(self.q1.popleft())\n",
        "        top = self.q1.popleft()\n",
        "\n",
        "        # q1, q2 교체\n",
        "        self.q1, self.q2 = self.q2, self.q1\n",
        "        return top\n"
      ],
      "metadata": {
        "id": "aNgB2WFm_Obp"
      },
      "execution_count": null,
      "outputs": []
    },
    {
      "cell_type": "code",
      "source": [
        "#05\n",
        "class QueueUsingStacks:\n",
        "    def __init__(self):\n",
        "        self.in_stack = []\n",
        "        self.out_stack = []\n",
        "\n",
        "    def enqueue(self, x):\n",
        "        self.in_stack.append(x)\n",
        "\n",
        "    def dequeue(self):\n",
        "        if not self.out_stack:\n",
        "            while self.in_stack:\n",
        "                self.out_stack.append(self.in_stack.pop())\n",
        "        return self.out_stack.pop() if self.out_stack else None"
      ],
      "metadata": {
        "id": "0_tlN0Vq_QHA"
      },
      "execution_count": null,
      "outputs": []
    },
    {
      "cell_type": "code",
      "source": [
        "#06\n",
        "'''\n",
        "리스트의 맨 앞에서 요소를 제거(pop(0))하면 **O(n)**의 시간이 걸리고, 리스트 끝에 추가(append)는 **O(1)**이다.\n",
        "enqueue() : O(1)\n",
        "dequeue() : O(n)\n",
        "'''"
      ],
      "metadata": {
        "id": "SKxPXTNV_R66"
      },
      "execution_count": null,
      "outputs": []
    },
    {
      "cell_type": "code",
      "source": [
        "#07\n",
        "'''\n",
        "연결 리스트에서는:\n",
        "맨 뒤에 노드를 추가하면 (tail 포인터가 있다면) → O(1)\n",
        "맨 앞에서 노드를 제거하면 → O(1)\n",
        "그래서 **enqueue()와 dequeue() 모두 O(1)**이 됩니다.\n",
        "'''"
      ],
      "metadata": {
        "id": "WUiapSxI_SWu"
      },
      "execution_count": null,
      "outputs": []
    },
    {
      "cell_type": "code",
      "source": [
        "#08\n",
        "class ListDeque:\n",
        "    def __init__(self):\n",
        "        self.__queue = []\n",
        "\n",
        "    def addRear(self, x):  # 기존 enqueue\n",
        "        self.__queue.append(x)\n",
        "\n",
        "    def deleteFront(self):  # 기존 dequeue\n",
        "        if self.isEmpty():\n",
        "            return None\n",
        "        return self.__queue.pop(0)\n",
        "\n",
        "    def addFront(self, x):  # 새로운 메서드\n",
        "        self.__queue.insert(0, x)\n",
        "\n",
        "    def deleteRear(self):  # 새로운 메서드\n",
        "        if self.isEmpty():\n",
        "            return None\n",
        "        return self.__queue.pop()\n",
        "\n",
        "    def front(self):\n",
        "        if self.isEmpty():\n",
        "            return None\n",
        "        return self.__queue[0]\n",
        "\n",
        "    def rear(self):  # 새로운 메서드\n",
        "        if self.isEmpty():\n",
        "            return None\n",
        "        return self.__queue[-1]\n",
        "\n",
        "    def isEmpty(self) -> bool:\n",
        "        return len(self.__queue) == 0\n",
        "\n",
        "    def dequeueAll(self):\n",
        "        self.__queue.clear()\n",
        "\n",
        "    def printQueue(self):\n",
        "        print(\"Deque from front:\", end=' ')\n",
        "        for i in range(len(self.__queue)):\n",
        "            print(self.__queue[i], end=' ')\n",
        "        print()\n"
      ],
      "metadata": {
        "id": "E4zrBjLG_UGG"
      },
      "execution_count": null,
      "outputs": []
    },
    {
      "cell_type": "markdown",
      "source": [
        "#heap"
      ],
      "metadata": {
        "id": "0NJUZryZRB4x"
      }
    },
    {
      "cell_type": "markdown",
      "source": [
        "#03"
      ],
      "metadata": {
        "id": "7pttI8LKRPc5"
      }
    },
    {
      "cell_type": "code",
      "source": [
        "import heapq\n",
        "import pandas as pd\n",
        "from datetime import datetime\n",
        "\n",
        "# CSV 파일 읽기\n",
        "df = pd.read_csv('/content/DS_Birthdaydata - 시트1.csv')\n",
        "\n",
        "# 힙 정의\n",
        "class Friend:\n",
        "    def __init__(self, name, birthdate):\n",
        "        self.name = name\n",
        "        self.birthdate = birthdate  # datetime.date 객체\n",
        "\n",
        "    def __lt__(self, other):\n",
        "        return self.birthdate > other.birthdate  # 느린 생일 순\n",
        "\n",
        "    def __str__(self):\n",
        "        return f\"{self.name} - {self.birthdate}\"\n",
        "\n",
        "# 힙에 데이터 넣기\n",
        "heap = []\n",
        "for _, row in df.iterrows():\n",
        "    name = row['이름']\n",
        "    raw_birth = str(int(row['생년월일8자리(예.20040101)']))\n",
        "    birthdate = datetime.strptime(raw_birth, '%Y%m%d').date()\n",
        "    heapq.heappush(heap, Friend(name, birthdate))\n",
        "\n",
        "# 결과 출력\n",
        "print(\"🎂 생일이 느린 친구 10명:\")\n",
        "for _ in range(10):\n",
        "    if heap:\n",
        "        print(heapq.heappop(heap))\n"
      ],
      "metadata": {
        "id": "1BiNHkGoRQk9"
      },
      "execution_count": null,
      "outputs": []
    },
    {
      "cell_type": "markdown",
      "source": [
        "#04"
      ],
      "metadata": {
        "id": "zN8oarCARSlL"
      }
    },
    {
      "cell_type": "code",
      "source": [
        "# CircularDoublyLinkedList를 사용하기 위한 BidirectNode 클래스 정의\n",
        "class BidirectNode:\n",
        "    def __init__(self, item, prev, next):\n",
        "        self.item = item\n",
        "        self.prev = prev\n",
        "        self.next = next\n",
        "\n",
        "# 위에 주어진 CircularDoublyLinkedList 클래스 포함\n",
        "# 단순화를 위해 생일 정보는 문자열로 저장하고, 이름과 생일을 튜플로 저장\n",
        "\n",
        "class CircularDoublyLinkedList:\n",
        "    def __init__(self):\n",
        "        self.__head = BidirectNode(\"dummy\", None, None)\n",
        "        self.__head.prev = self.__head\n",
        "        self.__head.next = self.__head\n",
        "        self.__numItems = 0\n",
        "\n",
        "    def append(self, newItem):\n",
        "        prev = self.__head.prev\n",
        "        newNode = BidirectNode(newItem, prev, self.__head)\n",
        "        prev.next = newNode\n",
        "        self.__head.prev = newNode\n",
        "        self.__numItems += 1\n",
        "\n",
        "    def __iter__(self):\n",
        "        return CircularDoublyLinkedListIterator(self)\n",
        "\n",
        "    def getNode(self, i):\n",
        "        curr = self.__head\n",
        "        for _ in range(i + 1):\n",
        "            curr = curr.next\n",
        "        return curr\n",
        "\n",
        "class CircularDoublyLinkedListIterator:\n",
        "    def __init__(self, alist):\n",
        "        self.__head = alist.getNode(-1)\n",
        "        self.iterPosition = self.__head.next\n",
        "\n",
        "    def __next__(self):\n",
        "        if self.iterPosition == self.__head:\n",
        "            raise StopIteration\n",
        "        else:\n",
        "            item = self.iterPosition.item\n",
        "            self.iterPosition = self.iterPosition.next\n",
        "            return item\n",
        "\n",
        "    def __iter__(self):\n",
        "        return self\n",
        "\n",
        "# 조원 이름 목록\n",
        "group_names = {\n",
        "    \"김나림\", \"김효리\", \"박찬미\", \"박혜린\", \"안소민\", \"이가연\", \"이수빈\",\n",
        "    \"이예림\", \"이원진\", \"이진\", \"이지영\", \"이채민\", \"임서영\", \"전민서\"\n",
        "}\n",
        "\n",
        "# CircularDoublyLinkedList에 조원 정보 삽입\n",
        "cdll = CircularDoublyLinkedList()\n",
        "for _, row in df.iterrows():\n",
        "    name = row[\"이름\"]\n",
        "    if name in group_names:\n",
        "        raw_birth = row[\"생년월일8자리(예.20040101)\"]\n",
        "        try:\n",
        "            birthdate = datetime.strptime(str(int(raw_birth)), \"%Y%m%d\").date()\n",
        "            cdll.append((name, birthdate))\n",
        "        except:\n",
        "            continue\n",
        "\n",
        "# 리스트 순회하며 이름과 생일 추출\n",
        "group_data = []\n",
        "for item in cdll:\n",
        "    group_data.append([item[0], item[1]])\n",
        "\n",
        "# 결과를 데이터프레임으로 출력\n",
        "group_df_final = pd.DataFrame(group_data, columns=[\"이름\", \"생일\"])\n",
        "tools.display_dataframe_to_user(name=\"CircularDoublyLinkedList 조원 생일\", dataframe=group_df_final)\n"
      ],
      "metadata": {
        "id": "ExKIcZlfRRk6"
      },
      "execution_count": null,
      "outputs": []
    },
    {
      "cell_type": "markdown",
      "source": [
        "#05 우선순위 큐 연습뮨제"
      ],
      "metadata": {
        "id": "1MZ90k7IRXb_"
      }
    },
    {
      "cell_type": "markdown",
      "source": [
        "###01"
      ],
      "metadata": {
        "id": "r3Fde_UURe1y"
      }
    },
    {
      "cell_type": "markdown",
      "source": [
        "그렇다. 최대 힙은 부모 노드가 자식 노드보다 크거나 같은 이진 트리이다. 하지만 형제 노드들 사이의 크기 순서는 보장되지 않기 때문에, 깊이가 얕은 노드가 더 깊은 노드보다 작을 수 있다."
      ],
      "metadata": {
        "id": "5-e5XR8_Rgzh"
      }
    },
    {
      "cell_type": "markdown",
      "source": [
        "###02"
      ],
      "metadata": {
        "id": "WP0Arr0XRh9b"
      }
    },
    {
      "cell_type": "markdown",
      "source": [
        "아니다. 최대 힙은 루트가 최대값이라는 것만 보장한다. A[n-1]은 힙 배열에서 단순히 마지막 위치일 뿐이고, 그 값이 반드시 최소값이라는 보장은 없다."
      ],
      "metadata": {
        "id": "D3xpL-CaRjFq"
      }
    },
    {
      "cell_type": "markdown",
      "source": [
        "###03"
      ],
      "metadata": {
        "id": "IRfwVdI0RkSf"
      }
    },
    {
      "cell_type": "markdown",
      "source": [
        "리프 노드들은 siftDown(스며내리기)를 하지 않는다. 완전 이진 트리에서 리프 노드는 약 n/2개가 존재하므로, buildHeap 과정에서 약 절반(n/2)의 노드는 단 한 번도 스며내리기를 수행하지 않는다."
      ],
      "metadata": {
        "id": "b2SJXZOBRlQL"
      }
    },
    {
      "cell_type": "markdown",
      "source": [
        "###04"
      ],
      "metadata": {
        "id": "eB8TImvVRmaL"
      }
    },
    {
      "cell_type": "markdown",
      "source": [
        "최악의 경우: 스며내리기가 트리의 최대 높이만큼 수행되어야 하므로 O(log n)\n",
        "\n",
        "최선의 경우: 한 번의 비교만으로 완료될 수도 있으므로 O(1)"
      ],
      "metadata": {
        "id": "h-6XGnXgRnRx"
      }
    },
    {
      "cell_type": "markdown",
      "source": [
        "###05"
      ],
      "metadata": {
        "id": "plytdjZMRoT2"
      }
    },
    {
      "cell_type": "markdown",
      "source": [
        "그렇다. 힙에서 마지막 원소를 삭제하는 것은 단순히 배열의 마지막 인덱스를 제거하면 되므로 O(1)의 연산이다."
      ],
      "metadata": {
        "id": "ENOnQrzuRqZZ"
      }
    },
    {
      "cell_type": "markdown",
      "source": [
        "###06"
      ],
      "metadata": {
        "id": "NeX1IesLRqvf"
      }
    },
    {
      "cell_type": "markdown",
      "source": [
        "스며올리기 방식으로도 힙을 만들 수는 있지만, 시간 복잡도는 O(n log n)이 된다.\n",
        "\n",
        "반면, 본문의 스며내리기 방식은 O(n) 이므로 더 효율적이다. → 따라서 본문 방식이 더 좋다."
      ],
      "metadata": {
        "id": "fXgEEnRjRsKS"
      }
    },
    {
      "cell_type": "markdown",
      "source": [
        "###07"
      ],
      "metadata": {
        "id": "BVkL-FCWRsxc"
      }
    },
    {
      "cell_type": "markdown",
      "source": [
        "값이 증가했다면 부모 노드보다 클 수 있으므로 스며올리기(upheap) 를 수행해야 한다.\n",
        "\n",
        "과정:\n",
        "\n",
        "증가된 원소의 인덱스를 i라고 하자.\n",
        "\n",
        "i가 루트가 아니고, A[i] > A[parent(i)]인 동안:\n",
        "\n",
        "A[i]와 A[parent(i)]를 교환\n",
        "\n",
        "i를 parent(i)로 업데이트\n",
        "\n",
        "최종적으로 올바른 위치에 도달하면 종료.\n",
        "\n",
        "→ 시간 복잡도는 O(log n)"
      ],
      "metadata": {
        "id": "uFmm4nHSRtv5"
      }
    },
    {
      "cell_type": "markdown",
      "source": [
        "#06 LeetCode 703.Kth Largest Element in Stream"
      ],
      "metadata": {
        "id": "STjkKwrDRvFc"
      }
    },
    {
      "cell_type": "code",
      "source": [
        "import heapq\n",
        "\n",
        "class KthLargest:\n",
        "    def __init__(self, k: int, nums: list[int]):\n",
        "        self.k = k\n",
        "        self.heap = nums\n",
        "        heapq.heapify(self.heap)  # 최소 힙으로 변환\n",
        "\n",
        "        # k개만 남기고 나머지는 제거\n",
        "        while len(self.heap) > k:\n",
        "            heapq.heappop(self.heap)\n",
        "\n",
        "    def add(self, val: int) -> int:\n",
        "        heapq.heappush(self.heap, val)\n",
        "        # k개 초과되면 제일 작은 값 제거\n",
        "        if len(self.heap) > self.k:\n",
        "            heapq.heappop(self.heap)\n",
        "        return self.heap[0]  # k번째로 큰 값\n"
      ],
      "metadata": {
        "id": "7TdOE5N1RyZ4"
      },
      "execution_count": null,
      "outputs": []
    }
  ]
}